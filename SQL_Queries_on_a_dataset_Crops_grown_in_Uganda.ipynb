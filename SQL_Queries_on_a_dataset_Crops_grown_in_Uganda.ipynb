{
  "nbformat": 4,
  "nbformat_minor": 0,
  "metadata": {
    "colab": {
      "name": " SQL-Queries-on-a-dataset-Crops-grown-in-Uganda.ipynb",
      "provenance": [],
      "collapsed_sections": []
    },
    "kernelspec": {
      "name": "python3",
      "display_name": "Python 3"
    },
    "language_info": {
      "name": "python"
    }
  },
  "cells": [
    {
      "cell_type": "code",
      "metadata": {
        "id": "NvwWEHEVmYQE"
      },
      "source": [
        "# First I loaded the sql extention into our environment\n",
        "\n",
        "%load_ext sql"
      ],
      "execution_count": 1,
      "outputs": []
    },
    {
      "cell_type": "code",
      "metadata": {
        "colab": {
          "base_uri": "https://localhost:8080/",
          "height": 35
        },
        "id": "2-lWIwsoqlD2",
        "outputId": "7620ecbf-053d-4292-b3fc-002a941e04c4"
      },
      "source": [
        "# Then connect to our sqlite database memory\n",
        "\n",
        "%sql sqlite://"
      ],
      "execution_count": 2,
      "outputs": [
        {
          "output_type": "execute_result",
          "data": {
            "application/vnd.google.colaboratory.intrinsic+json": {
              "type": "string"
            },
            "text/plain": [
              "'Connected: @None'"
            ]
          },
          "metadata": {},
          "execution_count": 2
        }
      ]
    },
    {
      "cell_type": "code",
      "metadata": {
        "id": "P_wy01NiqpGI"
      },
      "source": [
        "import csv\n",
        "import pandas as pd\n"
      ],
      "execution_count": 4,
      "outputs": []
    },
    {
      "cell_type": "code",
      "metadata": {
        "id": "RxglnFzxq0Ki"
      },
      "source": [
        "# to upload the file\n",
        "\n",
        "with open('Uganda_Karamoja_Subcounty_Crop_Yield_Population.csv', 'r') as f:\n",
        "  Uganda_Karamoja_Subcounty_Crop_Yield_Population = pd.read_csv(f, index_col = 0, encoding= 'utf-8')"
      ],
      "execution_count": 16,
      "outputs": []
    },
    {
      "cell_type": "code",
      "metadata": {
        "colab": {
          "base_uri": "https://localhost:8080/",
          "height": 86
        },
        "id": "wk_ok3w0rApk",
        "outputId": "a631e00f-8a20-4f44-e4db-b9ee391c52e1"
      },
      "source": [
        "\n",
        "# next step is to drop the existing table similar to one in the current sqlite environment\n",
        "\n",
        "%sql DROP TABLE if EXISTS Uganda_Karamoja_Subcounty_Crop_Yield_Population;\n",
        "%sql PERSIST Uganda_Karamoja_Subcounty_Crop_Yield_Population;\n",
        "\n"
      ],
      "execution_count": 18,
      "outputs": [
        {
          "output_type": "stream",
          "name": "stdout",
          "text": [
            " * sqlite://\n",
            "Done.\n",
            " * sqlite://\n"
          ]
        },
        {
          "output_type": "execute_result",
          "data": {
            "application/vnd.google.colaboratory.intrinsic+json": {
              "type": "string"
            },
            "text/plain": [
              "'Persisted uganda_karamoja_subcounty_crop_yield_population'"
            ]
          },
          "metadata": {},
          "execution_count": 18
        }
      ]
    },
    {
      "cell_type": "code",
      "metadata": {
        "colab": {
          "base_uri": "https://localhost:8080/",
          "height": 237
        },
        "id": "z3se33vlrNwq",
        "outputId": "d0bba972-98d5-4b9e-d86a-05798323233d"
      },
      "source": [
        "# a preview of the table limit 6\n",
        "%%sql\n",
        "SELECT * FROM Uganda_Karamoja_Subcounty_Crop_Yield_Population limit 6"
      ],
      "execution_count": 25,
      "outputs": [
        {
          "output_type": "stream",
          "name": "stdout",
          "text": [
            " * sqlite://\n",
            "Done.\n"
          ]
        },
        {
          "output_type": "execute_result",
          "data": {
            "text/html": [
              "<table>\n",
              "    <thead>\n",
              "        <tr>\n",
              "            <th>OBJECTID</th>\n",
              "            <th>SUBCOUNTY_NAME</th>\n",
              "            <th>DISTRICT_NAME</th>\n",
              "            <th>POP</th>\n",
              "            <th>Area</th>\n",
              "            <th>Karamoja</th>\n",
              "            <th>S_Yield_Ha</th>\n",
              "            <th>M_Yield_Ha</th>\n",
              "            <th>Crop_Area_Ha</th>\n",
              "            <th>S_Area_Ha</th>\n",
              "            <th>M_Area_Ha</th>\n",
              "            <th>S_Prod_Tot</th>\n",
              "            <th>M_Prod_Tot</th>\n",
              "        </tr>\n",
              "    </thead>\n",
              "    <tbody>\n",
              "        <tr>\n",
              "            <td>263</td>\n",
              "            <td>KACHERI</td>\n",
              "            <td>KOTIDO</td>\n",
              "            <td>17244</td>\n",
              "            <td>1067176155</td>\n",
              "            <td>Y</td>\n",
              "            <td>354.20741069999997</td>\n",
              "            <td>1137.467019</td>\n",
              "            <td>7023.533691</td>\n",
              "            <td>6434.342449</td>\n",
              "            <td>528.1242294</td>\n",
              "            <td>2279091.779</td>\n",
              "            <td>600723.8929</td>\n",
              "        </tr>\n",
              "        <tr>\n",
              "            <td>264</td>\n",
              "            <td>KOTIDO</td>\n",
              "            <td>KOTIDO</td>\n",
              "            <td>52771</td>\n",
              "            <td>597575188</td>\n",
              "            <td>Y</td>\n",
              "            <td>367.89052319999996</td>\n",
              "            <td>1162.9966869999998</td>\n",
              "            <td>13587.990759999999</td>\n",
              "            <td>12455.59264</td>\n",
              "            <td>824.7670809</td>\n",
              "            <td>4582294.492</td>\n",
              "            <td>959201.3825</td>\n",
              "        </tr>\n",
              "        <tr>\n",
              "            <td>265</td>\n",
              "            <td>KOTIDO TOWN COUNCIL</td>\n",
              "            <td>KOTIDO</td>\n",
              "            <td>27389</td>\n",
              "            <td>23972401</td>\n",
              "            <td>Y</td>\n",
              "            <td>369.3141771</td>\n",
              "            <td>1167.005832</td>\n",
              "            <td>1656.5318550000002</td>\n",
              "            <td>1520.322052</td>\n",
              "            <td>8.561643817</td>\n",
              "            <td>561476.4874</td>\n",
              "            <td>9991.488268000001</td>\n",
              "        </tr>\n",
              "        <tr>\n",
              "            <td>266</td>\n",
              "            <td>NAKAPERIMORU</td>\n",
              "            <td>KOTIDO</td>\n",
              "            <td>38775</td>\n",
              "            <td>419111591</td>\n",
              "            <td>Y</td>\n",
              "            <td>283.3245689</td>\n",
              "            <td>852.3665784</td>\n",
              "            <td>7087.823334000001</td>\n",
              "            <td>6761.488901000001</td>\n",
              "            <td>45.72171184</td>\n",
              "            <td>1915695.928</td>\n",
              "            <td>38971.65908</td>\n",
              "        </tr>\n",
              "        <tr>\n",
              "            <td>267</td>\n",
              "            <td>PANYANGARA</td>\n",
              "            <td>KOTIDO</td>\n",
              "            <td>65704</td>\n",
              "            <td>880955930</td>\n",
              "            <td>Y</td>\n",
              "            <td>373.8369255</td>\n",
              "            <td>1283.859882</td>\n",
              "            <td>10398.24939</td>\n",
              "            <td>10111.198129999999</td>\n",
              "            <td>172.6119139</td>\n",
              "            <td>3779939.224</td>\n",
              "            <td>221609.5114</td>\n",
              "        </tr>\n",
              "        <tr>\n",
              "            <td>268</td>\n",
              "            <td>RENGEN</td>\n",
              "            <td>KOTIDO</td>\n",
              "            <td>41273</td>\n",
              "            <td>652744859</td>\n",
              "            <td>Y</td>\n",
              "            <td>271.18584310000006</td>\n",
              "            <td>1047.180128</td>\n",
              "            <td>13278.52043</td>\n",
              "            <td>12964.49973</td>\n",
              "            <td>171.5857036</td>\n",
              "            <td>3515788.789</td>\n",
              "            <td>179681.139</td>\n",
              "        </tr>\n",
              "    </tbody>\n",
              "</table>"
            ],
            "text/plain": [
              "[(263, 'KACHERI', 'KOTIDO', 17244, 1067176155, 'Y', 354.20741069999997, 1137.467019, 7023.533691, 6434.342449, 528.1242294, 2279091.779, 600723.8929),\n",
              " (264, 'KOTIDO', 'KOTIDO', 52771, 597575188, 'Y', 367.89052319999996, 1162.9966869999998, 13587.990759999999, 12455.59264, 824.7670809, 4582294.492, 959201.3825),\n",
              " (265, 'KOTIDO TOWN COUNCIL', 'KOTIDO', 27389, 23972401, 'Y', 369.3141771, 1167.005832, 1656.5318550000002, 1520.322052, 8.561643817, 561476.4874, 9991.488268000001),\n",
              " (266, 'NAKAPERIMORU', 'KOTIDO', 38775, 419111591, 'Y', 283.3245689, 852.3665784, 7087.823334000001, 6761.488901000001, 45.72171184, 1915695.928, 38971.65908),\n",
              " (267, 'PANYANGARA', 'KOTIDO', 65704, 880955930, 'Y', 373.8369255, 1283.859882, 10398.24939, 10111.198129999999, 172.6119139, 3779939.224, 221609.5114),\n",
              " (268, 'RENGEN', 'KOTIDO', 41273, 652744859, 'Y', 271.18584310000006, 1047.180128, 13278.52043, 12964.49973, 171.5857036, 3515788.789, 179681.139)]"
            ]
          },
          "metadata": {},
          "execution_count": 25
        }
      ]
    },
    {
      "cell_type": "code",
      "metadata": {
        "colab": {
          "base_uri": "https://localhost:8080/",
          "height": 158
        },
        "id": "aTaDgsDXrRyC",
        "outputId": "b0eabcfc-546b-454c-8467-c5e9a782fb63"
      },
      "source": [
        "# Generating list of Sub Counties and their population and areas limit 4 \n",
        "\n",
        "%%sql\n",
        "SELECT SUBCOUNTY_NAME, POP, Area from Uganda_Karamoja_Subcounty_Crop_Yield_Population limit 4"
      ],
      "execution_count": 26,
      "outputs": [
        {
          "output_type": "stream",
          "name": "stdout",
          "text": [
            " * sqlite://\n",
            "Done.\n"
          ]
        },
        {
          "output_type": "execute_result",
          "data": {
            "text/html": [
              "<table>\n",
              "    <thead>\n",
              "        <tr>\n",
              "            <th>SUBCOUNTY_NAME</th>\n",
              "            <th>POP</th>\n",
              "            <th>Area</th>\n",
              "        </tr>\n",
              "    </thead>\n",
              "    <tbody>\n",
              "        <tr>\n",
              "            <td>KACHERI</td>\n",
              "            <td>17244</td>\n",
              "            <td>1067176155</td>\n",
              "        </tr>\n",
              "        <tr>\n",
              "            <td>KOTIDO</td>\n",
              "            <td>52771</td>\n",
              "            <td>597575188</td>\n",
              "        </tr>\n",
              "        <tr>\n",
              "            <td>KOTIDO TOWN COUNCIL</td>\n",
              "            <td>27389</td>\n",
              "            <td>23972401</td>\n",
              "        </tr>\n",
              "        <tr>\n",
              "            <td>NAKAPERIMORU</td>\n",
              "            <td>38775</td>\n",
              "            <td>419111591</td>\n",
              "        </tr>\n",
              "    </tbody>\n",
              "</table>"
            ],
            "text/plain": [
              "[('KACHERI', 17244, 1067176155),\n",
              " ('KOTIDO', 52771, 597575188),\n",
              " ('KOTIDO TOWN COUNCIL', 27389, 23972401),\n",
              " ('NAKAPERIMORU', 38775, 419111591)]"
            ]
          },
          "metadata": {},
          "execution_count": 26
        }
      ]
    },
    {
      "cell_type": "code",
      "metadata": {
        "colab": {
          "base_uri": "https://localhost:8080/",
          "height": 200
        },
        "id": "uY8RCjI5sMZ1",
        "outputId": "56987fee-f8a3-4030-9e69-f711db495a41"
      },
      "source": [
        "\n",
        "# Here am sorting the list of districts by total crop area (descending order)\n",
        "# limit 10 entries \n",
        "%%sql\n",
        "SELECT DISTRICT_NAME from Uganda_Karamoja_Subcounty_Crop_Yield_Population\n",
        "ORDER BY Crop_Area_Ha\tDESC limit 10\n",
        "\n"
      ],
      "execution_count": 27,
      "outputs": [
        {
          "output_type": "stream",
          "name": "stdout",
          "text": [
            " * sqlite://\n",
            "Done.\n"
          ]
        },
        {
          "output_type": "execute_result",
          "data": {
            "text/html": [
              "<table>\n",
              "    <thead>\n",
              "        <tr>\n",
              "            <th>DISTRICT_NAME</th>\n",
              "        </tr>\n",
              "    </thead>\n",
              "    <tbody>\n",
              "        <tr>\n",
              "            <td>KOTIDO</td>\n",
              "        </tr>\n",
              "        <tr>\n",
              "            <td>KOTIDO</td>\n",
              "        </tr>\n",
              "        <tr>\n",
              "            <td>KOTIDO</td>\n",
              "        </tr>\n",
              "        <tr>\n",
              "            <td>KOTIDO</td>\n",
              "        </tr>\n",
              "        <tr>\n",
              "            <td>KOTIDO</td>\n",
              "        </tr>\n",
              "        <tr>\n",
              "            <td>KOTIDO</td>\n",
              "        </tr>\n",
              "    </tbody>\n",
              "</table>"
            ],
            "text/plain": [
              "[('KOTIDO',), ('KOTIDO',), ('KOTIDO',), ('KOTIDO',), ('KOTIDO',), ('KOTIDO',)]"
            ]
          },
          "metadata": {},
          "execution_count": 27
        }
      ]
    },
    {
      "cell_type": "code",
      "metadata": {
        "colab": {
          "base_uri": "https://localhost:8080/",
          "height": 200
        },
        "id": "6F09612GxFms",
        "outputId": "6ec277eb-68a2-42e4-edfc-aae54e204f69"
      },
      "source": [
        "# Select only the Sub counties from the Moroto district, order them alphabetically and show their production of sorghum\n",
        "\n",
        "# here I want to select sub counties, then I need to show their production of sorghum\n",
        "# BUT only those from Moroto district and \n",
        "# Then Order them alphabetically\n",
        "# \n",
        "\n",
        "%%sql\n",
        "SELECT SUBCOUNTY_NAME, S_Prod_Tot\tfrom Uganda_Karamoja_Subcounty_Crop_Yield_Population\n"
      ],
      "execution_count": 29,
      "outputs": [
        {
          "output_type": "stream",
          "name": "stdout",
          "text": [
            " * sqlite://\n",
            "Done.\n"
          ]
        },
        {
          "output_type": "execute_result",
          "data": {
            "text/html": [
              "<table>\n",
              "    <thead>\n",
              "        <tr>\n",
              "            <th>SUBCOUNTY_NAME</th>\n",
              "            <th>S_Prod_Tot</th>\n",
              "        </tr>\n",
              "    </thead>\n",
              "    <tbody>\n",
              "        <tr>\n",
              "            <td>KACHERI</td>\n",
              "            <td>2279091.779</td>\n",
              "        </tr>\n",
              "        <tr>\n",
              "            <td>KOTIDO</td>\n",
              "            <td>4582294.492</td>\n",
              "        </tr>\n",
              "        <tr>\n",
              "            <td>KOTIDO TOWN COUNCIL</td>\n",
              "            <td>561476.4874</td>\n",
              "        </tr>\n",
              "        <tr>\n",
              "            <td>NAKAPERIMORU</td>\n",
              "            <td>1915695.928</td>\n",
              "        </tr>\n",
              "        <tr>\n",
              "            <td>PANYANGARA</td>\n",
              "            <td>3779939.224</td>\n",
              "        </tr>\n",
              "        <tr>\n",
              "            <td>RENGEN</td>\n",
              "            <td>3515788.789</td>\n",
              "        </tr>\n",
              "    </tbody>\n",
              "</table>"
            ],
            "text/plain": [
              "[('KACHERI', 2279091.779),\n",
              " ('KOTIDO', 4582294.492),\n",
              " ('KOTIDO TOWN COUNCIL', 561476.4874),\n",
              " ('NAKAPERIMORU', 1915695.928),\n",
              " ('PANYANGARA', 3779939.224),\n",
              " ('RENGEN', 3515788.789)]"
            ]
          },
          "metadata": {},
          "execution_count": 29
        }
      ]
    },
    {
      "cell_type": "code",
      "metadata": {
        "colab": {
          "base_uri": "https://localhost:8080/",
          "height": 95
        },
        "id": "LHo1vgaxxxm0",
        "outputId": "3679d553-2ebc-4aa1-92ff-b6d860857bfb"
      },
      "source": [
        "\n",
        "\n",
        "# Compute the total Maize production per District\n",
        "\n",
        "# here I selected the total maize production per district\n",
        "# limit 7\n",
        "\n",
        "%%sql\n",
        "SELECT DISTRICT_NAME, SUM(M_Prod_Tot) FROM Uganda_Karamoja_Subcounty_Crop_Yield_Population\n",
        "GROUP BY DISTRICT_NAME\n",
        "\n"
      ],
      "execution_count": 30,
      "outputs": [
        {
          "output_type": "stream",
          "name": "stdout",
          "text": [
            " * sqlite://\n",
            "Done.\n"
          ]
        },
        {
          "output_type": "execute_result",
          "data": {
            "text/html": [
              "<table>\n",
              "    <thead>\n",
              "        <tr>\n",
              "            <th>DISTRICT_NAME</th>\n",
              "            <th>SUM(M_Prod_Tot)</th>\n",
              "        </tr>\n",
              "    </thead>\n",
              "    <tbody>\n",
              "        <tr>\n",
              "            <td>KOTIDO</td>\n",
              "            <td>2010179.0731479998</td>\n",
              "        </tr>\n",
              "    </tbody>\n",
              "</table>"
            ],
            "text/plain": [
              "[('KOTIDO', 2010179.0731479998)]"
            ]
          },
          "metadata": {},
          "execution_count": 30
        }
      ]
    },
    {
      "cell_type": "code",
      "metadata": {
        "colab": {
          "base_uri": "https://localhost:8080/",
          "height": 95
        },
        "id": "82G0BZqjzC0d",
        "outputId": "b39793db-7234-4a76-d382-5b2f727b0634"
      },
      "source": [
        "# QUESTION: Compute the number of Sub counties where Maize is produced and the total Maize production per District. \n",
        "  \n",
        "# to calculate the number of sub counties where maize is produced\n",
        "\n",
        "%%sql\n",
        "SELECT count(SUBCOUNTY_NAME) FROM Uganda_Karamoja_Subcounty_Crop_Yield_Population\n",
        "WHERE M_Prod_Tot is NOT NULL"
      ],
      "execution_count": 31,
      "outputs": [
        {
          "output_type": "stream",
          "name": "stdout",
          "text": [
            " * sqlite://\n",
            "Done.\n"
          ]
        },
        {
          "output_type": "execute_result",
          "data": {
            "text/html": [
              "<table>\n",
              "    <thead>\n",
              "        <tr>\n",
              "            <th>count(SUBCOUNTY_NAME)</th>\n",
              "        </tr>\n",
              "    </thead>\n",
              "    <tbody>\n",
              "        <tr>\n",
              "            <td>6</td>\n",
              "        </tr>\n",
              "    </tbody>\n",
              "</table>"
            ],
            "text/plain": [
              "[(6,)]"
            ]
          },
          "metadata": {},
          "execution_count": 31
        }
      ]
    },
    {
      "cell_type": "code",
      "metadata": {
        "colab": {
          "base_uri": "https://localhost:8080/",
          "height": 74
        },
        "id": "GNdj2ZQOzOb6",
        "outputId": "e46bc684-b7a9-45c5-8589-59cdcaab7191"
      },
      "source": [
        "%%sql\n",
        "SELECT SUBCOUNTY_NAME M_Prod_Tot, COUNT(SUBCOUNTY_NAME) from Uganda_Karamoja_Subcounty_Crop_Yield_Population\n",
        "WHERE M_Area_Ha > S_Area_Ha\n",
        "GROUP BY DISTRICT_NAME\n",
        "ORDER BY DISTRICT_NAME DESC"
      ],
      "execution_count": 32,
      "outputs": [
        {
          "output_type": "stream",
          "name": "stdout",
          "text": [
            " * sqlite://\n",
            "Done.\n"
          ]
        },
        {
          "output_type": "execute_result",
          "data": {
            "text/html": [
              "<table>\n",
              "    <thead>\n",
              "        <tr>\n",
              "            <th>M_Prod_Tot</th>\n",
              "            <th>COUNT(SUBCOUNTY_NAME)</th>\n",
              "        </tr>\n",
              "    </thead>\n",
              "    <tbody>\n",
              "    </tbody>\n",
              "</table>"
            ],
            "text/plain": [
              "[]"
            ]
          },
          "metadata": {},
          "execution_count": 32
        }
      ]
    },
    {
      "cell_type": "code",
      "metadata": {
        "id": "KhjuyGLNzUWV"
      },
      "source": [
        ""
      ],
      "execution_count": null,
      "outputs": []
    }
  ]
}